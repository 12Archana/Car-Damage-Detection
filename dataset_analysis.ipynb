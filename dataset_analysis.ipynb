{
 "cells": [
  {
   "cell_type": "code",
   "execution_count": 1,
   "metadata": {},
   "outputs": [],
   "source": [
    "import json"
   ]
  },
  {
   "cell_type": "code",
   "execution_count": 4,
   "metadata": {},
   "outputs": [],
   "source": [
    "#Load car-damage-val.json\n",
    "with open('dataset/val/car-damage-val.json') as f:\n",
    "    car_damage_val_data = json.load(f)\n",
    "    \n",
    "#Load car-damage-val_attributes.json\n",
    "with open('dataset/val/car-damage-val_attributes.json') as f:\n",
    "    car_damage_val_attributes_data = json.load(f)\n",
    "    \n",
    "#Load val_multiclass.json\n",
    "with open('dataset/val/val_multiclass.json') as f:\n",
    "    val_multiclass_data = json.load(f)\n",
    "    \n",
    "#Load via_region_data.json\n",
    "with open('dataset/val/via_region_data.json') as f:\n",
    "    via_region_data = json.load(f)\n",
    "    "
   ]
  },
  {
   "cell_type": "code",
   "execution_count": 7,
   "metadata": {},
   "outputs": [
    {
     "data": {
      "text/plain": [
       "dict_keys(['_via_settings', '_via_img_metadata', '_via_attributes'])"
      ]
     },
     "execution_count": 7,
     "metadata": {},
     "output_type": "execute_result"
    }
   ],
   "source": [
    "car_damage_val_data.keys()"
   ]
  },
  {
   "cell_type": "code",
   "execution_count": 11,
   "metadata": {},
   "outputs": [
    {
     "data": {
      "text/plain": [
       "{'ui': {'annotation_editor_height': 25,\n",
       "  'annotation_editor_fontsize': 0.8,\n",
       "  'leftsidebar_width': 18,\n",
       "  'image_grid': {'img_height': 80,\n",
       "   'rshape_fill': 'none',\n",
       "   'rshape_fill_opacity': 0.3,\n",
       "   'rshape_stroke': 'yellow',\n",
       "   'rshape_stroke_width': 2,\n",
       "   'show_region_shape': True,\n",
       "   'show_image_policy': 'all'},\n",
       "  'image': {'region_label': 'name', 'region_label_font': '10px Sans'}},\n",
       " 'core': {'buffer_size': 18, 'filepath': {}, 'default_filepath': ''},\n",
       " 'project': {'name': 'car-damage-val'}}"
      ]
     },
     "execution_count": 11,
     "metadata": {},
     "output_type": "execute_result"
    }
   ],
   "source": [
    "car_damage_val_data['_via_settings']"
   ]
  },
  {
   "cell_type": "code",
   "execution_count": 14,
   "metadata": {},
   "outputs": [
    {
     "data": {
      "text/plain": [
       "{'filename': '1.jpg',\n",
       " 'size': 79148,\n",
       " 'regions': [{'shape_attributes': {'name': 'polygon',\n",
       "    'all_points_x': [454,\n",
       "     388,\n",
       "     364,\n",
       "     375,\n",
       "     422,\n",
       "     495,\n",
       "     516,\n",
       "     554,\n",
       "     539,\n",
       "     550,\n",
       "     539,\n",
       "     521,\n",
       "     495],\n",
       "    'all_points_y': [143,\n",
       "     296,\n",
       "     424,\n",
       "     505,\n",
       "     597,\n",
       "     633,\n",
       "     577,\n",
       "     489,\n",
       "     349,\n",
       "     259,\n",
       "     210,\n",
       "     166,\n",
       "     150]},\n",
       "   'region_attributes': {'name': 'damage'}},\n",
       "  {'shape_attributes': {'name': 'polygon',\n",
       "    'all_points_x': [528,\n",
       "     505,\n",
       "     392,\n",
       "     391,\n",
       "     409,\n",
       "     432,\n",
       "     477,\n",
       "     528,\n",
       "     560,\n",
       "     563,\n",
       "     548,\n",
       "     537],\n",
       "    'all_points_y': [622,\n",
       "     675,\n",
       "     675,\n",
       "     712,\n",
       "     778,\n",
       "     824,\n",
       "     822,\n",
       "     785,\n",
       "     729,\n",
       "     688,\n",
       "     662,\n",
       "     647]},\n",
       "   'region_attributes': {'name': 'damage'}}],\n",
       " 'file_attributes': {}}"
      ]
     },
     "execution_count": 14,
     "metadata": {},
     "output_type": "execute_result"
    }
   ],
   "source": [
    "car_damage_val_data['_via_img_metadata']['1.jpg79148']"
   ]
  },
  {
   "cell_type": "code",
   "execution_count": 12,
   "metadata": {},
   "outputs": [
    {
     "data": {
      "text/plain": [
       "{'region': {'name': {'type': 'text',\n",
       "   'description': 'Name of the object',\n",
       "   'default_value': 'damage'},\n",
       "  'type': {'type': 'dropdown',\n",
       "   'description': 'Category of object',\n",
       "   'options': {'scratch': 'Car Scratch',\n",
       "    'dent': 'Car Dent',\n",
       "    'unknown': 'Unknown (damage)'},\n",
       "   'default_options': {}}},\n",
       " 'file': {}}"
      ]
     },
     "execution_count": 12,
     "metadata": {},
     "output_type": "execute_result"
    }
   ],
   "source": [
    "car_damage_val_data['_via_attributes']"
   ]
  },
  {
   "cell_type": "code",
   "execution_count": 8,
   "metadata": {},
   "outputs": [
    {
     "data": {
      "text/plain": [
       "dict_keys(['region', 'file'])"
      ]
     },
     "execution_count": 8,
     "metadata": {},
     "output_type": "execute_result"
    }
   ],
   "source": [
    "car_damage_val_attributes_data.keys()"
   ]
  },
  {
   "cell_type": "code",
   "execution_count": 17,
   "metadata": {},
   "outputs": [
    {
     "data": {
      "text/plain": [
       "{'name': {'type': 'text',\n",
       "  'description': 'Name of the object',\n",
       "  'default_value': 'damage'},\n",
       " 'type': {'type': 'dropdown',\n",
       "  'description': 'Category of object',\n",
       "  'options': {'scratch': 'Car Scratch',\n",
       "   'dent': 'Car Dent',\n",
       "   'unknown': 'Unknown (damage)'},\n",
       "  'default_options': {}}}"
      ]
     },
     "execution_count": 17,
     "metadata": {},
     "output_type": "execute_result"
    }
   ],
   "source": [
    "car_damage_val_attributes_data['region']"
   ]
  },
  {
   "cell_type": "code",
   "execution_count": 18,
   "metadata": {},
   "outputs": [
    {
     "data": {
      "text/plain": [
       "{'filename': '1.jpg',\n",
       " 'size': 79148,\n",
       " 'regions': [{'shape_attributes': {'name': 'polygon',\n",
       "    'all_points_x': [185, 187, 288, 412, 506],\n",
       "    'all_points_y': [4, 143, 143, 88, 6]},\n",
       "   'region_attributes': {'name': 'headlamp'}},\n",
       "  {'shape_attributes': {'name': 'polygon',\n",
       "    'all_points_x': [4,\n",
       "     192,\n",
       "     327,\n",
       "     427,\n",
       "     519,\n",
       "     564,\n",
       "     580,\n",
       "     596,\n",
       "     667,\n",
       "     696,\n",
       "     671,\n",
       "     678,\n",
       "     652,\n",
       "     642,\n",
       "     597,\n",
       "     505,\n",
       "     454,\n",
       "     279,\n",
       "     165,\n",
       "     91,\n",
       "     7],\n",
       "    'all_points_y': [132,\n",
       "     149,\n",
       "     139,\n",
       "     78,\n",
       "     0,\n",
       "     14,\n",
       "     97,\n",
       "     139,\n",
       "     139,\n",
       "     143,\n",
       "     401,\n",
       "     460,\n",
       "     686,\n",
       "     775,\n",
       "     819,\n",
       "     823,\n",
       "     823,\n",
       "     820,\n",
       "     816,\n",
       "     758,\n",
       "     749]},\n",
       "   'region_attributes': {'name': 'rear_bumper'}}],\n",
       " 'file_attributes': {}}"
      ]
     },
     "execution_count": 18,
     "metadata": {},
     "output_type": "execute_result"
    }
   ],
   "source": [
    "val_multiclass_data['1.jpg79148']"
   ]
  },
  {
   "cell_type": "code",
   "execution_count": 21,
   "metadata": {},
   "outputs": [
    {
     "data": {
      "text/plain": [
       "{'filename': '1.jpg',\n",
       " 'size': 79148,\n",
       " 'regions': [{'shape_attributes': {'name': 'polygon',\n",
       "    'all_points_x': [454,\n",
       "     388,\n",
       "     364,\n",
       "     375,\n",
       "     422,\n",
       "     495,\n",
       "     516,\n",
       "     554,\n",
       "     539,\n",
       "     550,\n",
       "     539,\n",
       "     521,\n",
       "     495],\n",
       "    'all_points_y': [143,\n",
       "     296,\n",
       "     424,\n",
       "     505,\n",
       "     597,\n",
       "     633,\n",
       "     577,\n",
       "     489,\n",
       "     349,\n",
       "     259,\n",
       "     210,\n",
       "     166,\n",
       "     150]},\n",
       "   'region_attributes': {'name': 'damage'}},\n",
       "  {'shape_attributes': {'name': 'polygon',\n",
       "    'all_points_x': [528,\n",
       "     505,\n",
       "     392,\n",
       "     391,\n",
       "     409,\n",
       "     432,\n",
       "     477,\n",
       "     528,\n",
       "     560,\n",
       "     563,\n",
       "     548,\n",
       "     537],\n",
       "    'all_points_y': [622,\n",
       "     675,\n",
       "     675,\n",
       "     712,\n",
       "     778,\n",
       "     824,\n",
       "     822,\n",
       "     785,\n",
       "     729,\n",
       "     688,\n",
       "     662,\n",
       "     647]},\n",
       "   'region_attributes': {'name': 'damage'}}],\n",
       " 'file_attributes': {}}"
      ]
     },
     "execution_count": 21,
     "metadata": {},
     "output_type": "execute_result"
    }
   ],
   "source": [
    "via_region_data['1.jpg79148']"
   ]
  },
  {
   "cell_type": "code",
   "execution_count": 22,
   "metadata": {},
   "outputs": [],
   "source": [
    "import matplotlib.pyplot as plt\n",
    "from matplotlib.collections import PatchCollection\n",
    "from matplotlib.patches import Polygon"
   ]
  },
  {
   "cell_type": "code",
   "execution_count": null,
   "metadata": {},
   "outputs": [],
   "source": [
    "def plot_segments():\n",
    "    \"\"\"\n",
    "    This function helps to visualize the dataset\n",
    "    \"\"\""
   ]
  }
 ],
 "metadata": {
  "kernelspec": {
   "display_name": "tensorflow",
   "language": "python",
   "name": "tensorflow"
  },
  "language_info": {
   "codemirror_mode": {
    "name": "ipython",
    "version": 3
   },
   "file_extension": ".py",
   "mimetype": "text/x-python",
   "name": "python",
   "nbconvert_exporter": "python",
   "pygments_lexer": "ipython3",
   "version": "3.6.10"
  }
 },
 "nbformat": 4,
 "nbformat_minor": 4
}
